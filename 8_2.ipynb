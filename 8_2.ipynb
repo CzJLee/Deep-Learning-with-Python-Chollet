{
 "metadata": {
  "language_info": {
   "codemirror_mode": {
    "name": "ipython",
    "version": 3
   },
   "file_extension": ".py",
   "mimetype": "text/x-python",
   "name": "python",
   "nbconvert_exporter": "python",
   "pygments_lexer": "ipython3",
   "version": "3.8.10"
  },
  "orig_nbformat": 2,
  "kernelspec": {
   "name": "python3810jvsc74a57bd07e85ec9bf098c5427e45e2f632dcd4eeff803b007e1abd287d600879388709c1",
   "display_name": "Python 3.8.10 64-bit"
  },
  "metadata": {
   "interpreter": {
    "hash": "7e85ec9bf098c5427e45e2f632dcd4eeff803b007e1abd287d600879388709c1"
   }
  }
 },
 "nbformat": 4,
 "nbformat_minor": 2,
 "cells": [
  {
   "source": [
    "# Dogs Vs. Cats: Training a Covnet from Scratch\n",
    "\n",
    "In this notebook, I will explore the process of creating an image classification convolutional neural network (covnet) from scratch. \n",
    "\n",
    "Let's build the model with a series of `Conv2D` and `MaxPooling2D` layers. \n",
    "\n",
    "The data set used is the [dogs vs cats](https://www.kaggle.com/c/dogs-vs-cats) dataset from the 2013 Kaggle competiton. While the training dataset contains 25,000 training images, let's start with only a small fraction of that to save on computing costs for now. "
   ],
   "cell_type": "markdown",
   "metadata": {}
  },
  {
   "cell_type": "code",
   "execution_count": 2,
   "metadata": {},
   "outputs": [],
   "source": [
    "import os\n",
    "import shutil\n",
    "import pathlib\n",
    "from tensorflow import keras\n",
    "import numpy as np \n",
    "import matplotlib.pyplot as plt "
   ]
  },
  {
   "source": [
    "## Preparing the Dataset\n",
    "\n",
    "Frist, download the data set from Kaggle using Terminal\n",
    "\n",
    "```\n",
    "kaggle competitions download -c dogs-vs-cats\n",
    "unzip dogs-vs-cats.zip -d dogs-vs-cats-data\n",
    "cd dogs-vs-cats-data\n",
    "unzip -q train.zip\n",
    "unzip -q test1.zip\n",
    "rm train.zip\n",
    "rm test1.zip\n",
    "cd ..\n",
    "rm dogs-vs-cats.zip\n",
    "```\n",
    "\n",
    "Reminder: Make sure to accept the competiton rules before downloading. Otherwise, you will get a `403 - Forbidden` error. "
   ],
   "cell_type": "markdown",
   "metadata": {}
  },
  {
   "source": [
    "### Preview some of the images\n",
    "\n",
    "To get an idea of the images we are working with, lets preview some of the images. \n",
    "\n",
    "### Dogs\n",
    "![Dog](dogs-vs-cats-data/train/dog.0.jpg)\n",
    "![Dog](dogs-vs-cats-data/train/dog.1.jpg)\n",
    "![Dog](dogs-vs-cats-data/train/dog.2.jpg)\n",
    "![Dog](dogs-vs-cats-data/train/dog.3.jpg)\n",
    "\n",
    "### Cats\n",
    "![Cat](dogs-vs-cats-data/train/cat.0.jpg)\n",
    "![Cat](dogs-vs-cats-data/train/cat.1.jpg)\n",
    "![Cat](dogs-vs-cats-data/train/cat.2.jpg)\n",
    "![Cat](dogs-vs-cats-data/train/cat.3.jpg)\n",
    "\n"
   ],
   "cell_type": "markdown",
   "metadata": {}
  },
  {
   "source": [
    "By previewing the images, we can see that the images are in color, but they are not all the same size. This tells us that we will need a way to handle the different sizes before feeding it to our model. "
   ],
   "cell_type": "markdown",
   "metadata": {}
  },
  {
   "source": [
    "### Make a small dataset\n",
    "\n",
    "Instead of the full 25,000 training images, let's use a small subset of that to practice on. \n",
    "\n",
    "This will also allow us to create separate training, validation, and testing sets. The original test data set does not have labels, so lets use the images from the training data set. \n",
    "\n",
    "Also, unfortuantly since the Kaggle competion is over, and there is no way to submit solutions, the test dataset is useless to us now, as there is no way to evaluate its accuracy (outside of manually labeling the images.)"
   ],
   "cell_type": "markdown",
   "metadata": {}
  },
  {
   "cell_type": "code",
   "execution_count": 10,
   "metadata": {},
   "outputs": [],
   "source": [
    "# Our full data set is in the original data folder. Let's make a new small folder.\n",
    "original_dir = pathlib.Path('dogs-vs-cats-data')\n",
    "new_base_dir = pathlib.Path('dogs-vs-cats-small')\n",
    "\n",
    "# Define a function to move our images to the new directory.\n",
    "def make_subset(subset_name, start_index, end_index):\n",
    "    for category in ('cat', 'dog'):\n",
    "        dir = new_base_dir / subset_name / category\n",
    "        pathlib.Path(dir).mkdir(parents=True, exist_ok=True)\n",
    "        # images in the train set have the file name dog.5.jpg, with no leading zeros. \n",
    "        fnames = [f'{category}.{i}.jpg' for i in range(start_index, end_index)]\n",
    "        for fname in fnames:\n",
    "            # Copy from original_dir to new_base_dir\n",
    "            shutil.copyfile(src=original_dir / \"train\"/ fname, dst=dir / fname)\n",
    "\n",
    "# Define size of each set\n",
    "# Select size/2 of each type of image to chose for the small subset. \n",
    "num_train_images = 2000\n",
    "num_val_images = 1000\n",
    "num_test_images = 2000\n",
    "\n",
    "# Loop over the train, validation, and test sets, making subsets for each.\n",
    "i = 0\n",
    "for dataset, num_images in {\"train\":num_train_images, \"validation\":num_val_images, \"test\":num_test_images}.items():\n",
    "    make_subset(dataset, i, int(i + num_images/2))\n",
    "    i += int(num_images / 2)"
   ]
  },
  {
   "cell_type": "code",
   "execution_count": null,
   "metadata": {},
   "outputs": [],
   "source": []
  }
 ]
}