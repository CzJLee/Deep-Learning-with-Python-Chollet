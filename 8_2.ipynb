{
 "metadata": {
  "language_info": {
   "codemirror_mode": {
    "name": "ipython",
    "version": 3
   },
   "file_extension": ".py",
   "mimetype": "text/x-python",
   "name": "python",
   "nbconvert_exporter": "python",
   "pygments_lexer": "ipython3",
   "version": "3.8.9"
  },
  "orig_nbformat": 2,
  "kernelspec": {
   "name": "python389jvsc74a57bd07e85ec9bf098c5427e45e2f632dcd4eeff803b007e1abd287d600879388709c1",
   "display_name": "Python 3.8.9 64-bit"
  },
  "metadata": {
   "interpreter": {
    "hash": "7e85ec9bf098c5427e45e2f632dcd4eeff803b007e1abd287d600879388709c1"
   }
  }
 },
 "nbformat": 4,
 "nbformat_minor": 2,
 "cells": [
  {
   "source": [
    "# Dogs Vs. Cats: Training a Covnet from Scratch\n",
    "\n",
    "In this notebook, I will explore the process of creating an image classification convolutional neural network (covnet) from scratch. \n",
    "\n",
    "Let's build the model with a series of `Conv2D` and `MaxPooling2D` layers. \n",
    "\n",
    "The data set used is the [dogs vs cats](https://www.kaggle.com/c/dogs-vs-cats) dataset from the 2013 Kaggle competiton. While the training dataset contains 25,000 training images, let's start with only a small fraction of that to save on computing costs for now. "
   ],
   "cell_type": "markdown",
   "metadata": {}
  },
  {
   "cell_type": "code",
   "execution_count": 1,
   "metadata": {},
   "outputs": [],
   "source": [
    "import os\n",
    "import shutil\n",
    "import pathlib\n",
    "from tensorflow import keras\n",
    "import numpy as np \n",
    "import matplotlib.pyplot as plt "
   ]
  },
  {
   "source": [
    "## Preparing the Dataset\n",
    "\n",
    "Frist, download the data set from Kaggle using Terminal\n",
    "\n",
    "```\n",
    "kaggle competitions download -c dogs-vs-cats\n",
    "unzip dogs-vs-cats.zip -d dogs-vs-cats-data\n",
    "cd dogs-vs-cats-data\n",
    "unzip -q train.zip\n",
    "unzip -q test1.zip\n",
    "rm train.zip\n",
    "rm test1.zip\n",
    "cd ..\n",
    "rm dogs-vs-cats.zip\n",
    "```\n",
    "\n",
    "Reminder: Make sure to accept the competiton rules before downloading. Otherwise, you will get a `403 - Forbidden` error. "
   ],
   "cell_type": "markdown",
   "metadata": {}
  },
  {
   "source": [
    "### Preview some of the images\n",
    "\n",
    "To get an idea of the images we are working with, lets preview some of the images. \n",
    "\n",
    "### Dogs\n",
    "![Dog](dogs-vs-cats-data/train/dog.0.jpg)\n",
    "![Dog](dogs-vs-cats-data/train/dog.1.jpg)\n",
    "![Dog](dogs-vs-cats-data/train/dog.2.jpg)\n",
    "![Dog](dogs-vs-cats-data/train/dog.3.jpg)\n",
    "\n",
    "### Cats\n",
    "![Cat](dogs-vs-cats-data/train/cat.0.jpg)\n",
    "![Cat](dogs-vs-cats-data/train/cat.1.jpg)\n",
    "![Cat](dogs-vs-cats-data/train/cat.2.jpg)\n",
    "![Cat](dogs-vs-cats-data/train/cat.3.jpg)\n",
    "\n"
   ],
   "cell_type": "markdown",
   "metadata": {}
  },
  {
   "source": [
    "By previewing the images, we can see that the images are in color, but they are not all the same size. This tells us that we will need a way to handle the different sizes before feeding it to our model. "
   ],
   "cell_type": "markdown",
   "metadata": {}
  },
  {
   "source": [
    "### Make a small dataset\n",
    "\n",
    "Instead of the full 25,000 training images, let's use a small subset of that to practice on. \n",
    "\n",
    "This will also allow us to create separate training, validation, and testing sets. The original test data set does not have labels, so lets use the images from the training data set. \n",
    "\n",
    "Also, unfortuantly since the Kaggle competion is over, and there is no way to submit solutions, the test dataset is useless to us now, as there is no way to evaluate its accuracy (outside of manually labeling the images.)"
   ],
   "cell_type": "markdown",
   "metadata": {}
  },
  {
   "cell_type": "code",
   "execution_count": null,
   "metadata": {},
   "outputs": [],
   "source": []
  }
 ]
}