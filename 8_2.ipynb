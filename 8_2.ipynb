{
 "metadata": {
  "language_info": {
   "codemirror_mode": {
    "name": "ipython",
    "version": 3
   },
   "file_extension": ".py",
   "mimetype": "text/x-python",
   "name": "python",
   "nbconvert_exporter": "python",
   "pygments_lexer": "ipython3",
   "version": "3.8.9"
  },
  "orig_nbformat": 2,
  "kernelspec": {
   "name": "python389jvsc74a57bd07e85ec9bf098c5427e45e2f632dcd4eeff803b007e1abd287d600879388709c1",
   "display_name": "Python 3.8.9 64-bit"
  },
  "metadata": {
   "interpreter": {
    "hash": "7e85ec9bf098c5427e45e2f632dcd4eeff803b007e1abd287d600879388709c1"
   }
  }
 },
 "nbformat": 4,
 "nbformat_minor": 2,
 "cells": [
  {
   "cell_type": "code",
   "execution_count": 1,
   "metadata": {},
   "outputs": [],
   "source": [
    "import os\n",
    "import shutil\n",
    "import pathlib\n",
    "from tensorflow import keras\n",
    "import numpy as np \n",
    "import matplotlib.pyplot as plt "
   ]
  },
  {
   "source": [
    "Download the data set from Kaggle using Terminal\n",
    "\n",
    "```\n",
    "kaggle competitions download -c dogs-vs-cats\n",
    "unzip dogs-vs-cats.zip -d dogs-vs-cats-data\n",
    "cd dogs-vs-cats-data\n",
    "unzip -q train.zip -d train\n",
    "unzip -q test1.zip -d test\n",
    "rm train.zip\n",
    "rm test1.zip\n",
    "cd ..\n",
    "rm dogs-vs-cats.zip\n",
    "```\n",
    "\n",
    "Reminder: Make sure to accept the competiton rules before downloading. Otherwise, you will get a `403 - Forbidden` error. "
   ],
   "cell_type": "markdown",
   "metadata": {}
  },
  {
   "cell_type": "code",
   "execution_count": null,
   "metadata": {},
   "outputs": [],
   "source": []
  }
 ]
}