{
 "metadata": {
  "language_info": {
   "codemirror_mode": {
    "name": "ipython",
    "version": 3
   },
   "file_extension": ".py",
   "mimetype": "text/x-python",
   "name": "python",
   "nbconvert_exporter": "python",
   "pygments_lexer": "ipython3",
   "version": "3.8.9"
  },
  "orig_nbformat": 2,
  "kernelspec": {
   "name": "python389jvsc74a57bd07e85ec9bf098c5427e45e2f632dcd4eeff803b007e1abd287d600879388709c1",
   "display_name": "Python 3.8.9 64-bit"
  },
  "metadata": {
   "interpreter": {
    "hash": "7e85ec9bf098c5427e45e2f632dcd4eeff803b007e1abd287d600879388709c1"
   }
  }
 },
 "nbformat": 4,
 "nbformat_minor": 2,
 "cells": [
  {
   "source": [
    "# Dogs Vs. Cats: Training a Covnet from Scratch\n",
    "\n",
    "In this notebook, I will explore the process of creating an image classification convolutional neural network (covnet) from scratch. \n",
    "\n",
    "Let's build the model with a series of `Conv2D` and `MaxPooling2D` layers. \n",
    "\n",
    "The data set used is the [dogs vs cats](https://www.kaggle.com/c/dogs-vs-cats) dataset from the 2013 Kaggle competiton. While the training dataset contains 25,000 training images, let's start with only a small fraction of that to save on computing costs for now. "
   ],
   "cell_type": "markdown",
   "metadata": {}
  },
  {
   "cell_type": "code",
   "execution_count": 1,
   "metadata": {},
   "outputs": [],
   "source": [
    "import os\n",
    "import shutil\n",
    "import pathlib\n",
    "from tensorflow import keras\n",
    "import numpy as np \n",
    "import matplotlib.pyplot as plt "
   ]
  },
  {
   "source": [
    "Download the data set from Kaggle using Terminal\n",
    "\n",
    "```\n",
    "kaggle competitions download -c dogs-vs-cats\n",
    "unzip dogs-vs-cats.zip -d dogs-vs-cats-data\n",
    "cd dogs-vs-cats-data\n",
    "unzip -q train.zip -d train\n",
    "unzip -q test1.zip -d test\n",
    "rm train.zip\n",
    "rm test1.zip\n",
    "cd ..\n",
    "rm dogs-vs-cats.zip\n",
    "```\n",
    "\n",
    "Reminder: Make sure to accept the competiton rules before downloading. Otherwise, you will get a `403 - Forbidden` error. "
   ],
   "cell_type": "markdown",
   "metadata": {}
  },
  {
   "cell_type": "code",
   "execution_count": null,
   "metadata": {},
   "outputs": [],
   "source": []
  }
 ]
}