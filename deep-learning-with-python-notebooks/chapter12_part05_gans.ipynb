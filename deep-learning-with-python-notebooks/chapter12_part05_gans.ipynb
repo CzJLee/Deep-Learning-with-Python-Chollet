{
  "cells": [
    {
      "cell_type": "markdown",
      "metadata": {
        "id": "WMTYYdzAPeGK"
      },
      "source": [
        "This is a companion notebook for the book [Deep Learning with Python, Second Edition](https://www.manning.com/books/deep-learning-with-python-second-edition?a_aid=keras&a_bid=76564dff). For readability, it only contains runnable code blocks and section titles, and omits everything else in the book: text paragraphs, figures, and pseudocode.\n",
        "\n",
        "**If you want to be able to follow what's going on, I recommend reading the notebook side by side with your copy of the book.**\n",
        "\n",
        "This notebook was generated for TensorFlow 2.6."
      ]
    },
    {
      "cell_type": "markdown",
      "metadata": {
        "id": "8CHUmwp_PeGN"
      },
      "source": [
        "## Introduction to generative adversarial networks"
      ]
    },
    {
      "cell_type": "markdown",
      "metadata": {
        "id": "jHZcrf8rPeGN"
      },
      "source": [
        "### A schematic GAN implementation"
      ]
    },
    {
      "cell_type": "markdown",
      "metadata": {
        "id": "Fm2oTNkqPeGO"
      },
      "source": [
        "### A bag of tricks"
      ]
    },
    {
      "cell_type": "markdown",
      "metadata": {
        "id": "XwT9YqHLPeGO"
      },
      "source": [
        "### Getting our hands on the CelebA dataset"
      ]
    },
    {
      "cell_type": "markdown",
      "metadata": {
        "id": "ZZSrptjuPeGP"
      },
      "source": [
        "**Getting the CelebA data**"
      ]
    },
    {
      "cell_type": "code",
      "execution_count": 5,
      "metadata": {
        "colab": {
          "base_uri": "https://localhost:8080/"
        },
        "id": "wmjmHZszPeGP",
        "outputId": "79174688-9d85-4f93-908d-f2483c800fca"
      },
      "outputs": [
        {
          "name": "stdout",
          "output_type": "stream",
          "text": [
            "mkdir: cannot create directory ‘celeba_gan’: File exists\n",
            "Downloading...\n",
            "From: https://drive.google.com/uc?id=1O7m1010EJjLE5QxLZiM9Fpjs7Oj6e684\n",
            "To: /content/img_align_celeba.zip\n",
            "100% 1.44G/1.44G [00:11<00:00, 130MB/s]\n",
            "unzip:  cannot find or open celeba_gan/data.zip, celeba_gan/data.zip.zip or celeba_gan/data.zip.ZIP.\n"
          ]
        }
      ],
      "source": [
        "!mkdir celeba_gan\n",
        "!gdown --id 1O7m1010EJjLE5QxLZiM9Fpjs7Oj6e684"
      ]
    },
    {
      "cell_type": "code",
      "execution_count": 6,
      "metadata": {
        "id": "J8RBgl2PQEA3"
      },
      "outputs": [],
      "source": [
        "!unzip -qq img_align_celeba.zip -d celeba_gan"
      ]
    },
    {
      "cell_type": "markdown",
      "metadata": {
        "id": "kjt5PQi1PeGR"
      },
      "source": [
        "**Creating a dataset from a directory of images**"
      ]
    },
    {
      "cell_type": "code",
      "execution_count": 7,
      "metadata": {
        "colab": {
          "base_uri": "https://localhost:8080/"
        },
        "id": "JX0RIr6IPeGS",
        "outputId": "8c6d7563-599f-46f9-96a4-ceac45140a77"
      },
      "outputs": [
        {
          "name": "stdout",
          "output_type": "stream",
          "text": [
            "Found 202599 files belonging to 1 classes.\n"
          ]
        }
      ],
      "source": [
        "from tensorflow import keras\n",
        "dataset = keras.utils.image_dataset_from_directory(\n",
        "    \"celeba_gan\",\n",
        "    label_mode=None,\n",
        "    image_size=(64, 64),\n",
        "    batch_size=32,\n",
        "    smart_resize=True)"
      ]
    },
    {
      "cell_type": "markdown",
      "metadata": {
        "id": "7dj1Al1yPeGU"
      },
      "source": [
        "**Rescaling the images**"
      ]
    },
    {
      "cell_type": "code",
      "execution_count": 8,
      "metadata": {
        "id": "XexDDjwZPeGV"
      },
      "outputs": [],
      "source": [
        "dataset = dataset.map(lambda x: x / 255.)"
      ]
    },
    {
      "cell_type": "markdown",
      "metadata": {
        "id": "uC5zjj6sPeGV"
      },
      "source": [
        "**Displaying the first image**"
      ]
    },
    {
      "cell_type": "code",
      "execution_count": 9,
      "metadata": {
        "colab": {
          "base_uri": "https://localhost:8080/",
          "height": 248
        },
        "id": "t-PbtfaLPeGW",
        "outputId": "c4688c93-047f-4364-9700-518ae85bb265"
      },
      "outputs": [
        {
          "data": {
            "image/png": "[encoded data removed]",
            "text/plain": [
              "<Figure size 432x288 with 1 Axes>"
            ]
          },
          "metadata": {
            "needs_background": "light"
          },
          "output_type": "display_data"
        }
      ],
      "source": [
        "import matplotlib.pyplot as plt\n",
        "for x in dataset:\n",
        "    plt.axis(\"off\")\n",
        "    plt.imshow((x.numpy() * 255).astype(\"int32\")[0])\n",
        "    break"
      ]
    },
    {
      "cell_type": "markdown",
      "metadata": {
        "id": "rtCzb-tLPeGX"
      },
      "source": [
        "### The discriminator"
      ]
    },
    {
      "cell_type": "markdown",
      "metadata": {
        "id": "DMIWjk-YPeGX"
      },
      "source": [
        "**The GAN discriminator network**"
      ]
    },
    {
      "cell_type": "code",
      "execution_count": 10,
      "metadata": {
        "id": "NquOK1SLPeGX"
      },
      "outputs": [],
      "source": [
        "from tensorflow.keras import layers\n",
        "\n",
        "discriminator = keras.Sequential(\n",
        "    [\n",
        "        keras.Input(shape=(64, 64, 3)),\n",
        "        layers.Conv2D(64, kernel_size=4, strides=2, padding=\"same\"),\n",
        "        layers.LeakyReLU(alpha=0.2),\n",
        "        layers.Conv2D(128, kernel_size=4, strides=2, padding=\"same\"),\n",
        "        layers.LeakyReLU(alpha=0.2),\n",
        "        layers.Conv2D(128, kernel_size=4, strides=2, padding=\"same\"),\n",
        "        layers.LeakyReLU(alpha=0.2),\n",
        "        layers.Flatten(),\n",
        "        layers.Dropout(0.2),\n",
        "        layers.Dense(1, activation=\"sigmoid\"),\n",
        "    ],\n",
        "    name=\"discriminator\",\n",
        ")"
      ]
    },
    {
      "cell_type": "code",
      "execution_count": 11,
      "metadata": {
        "colab": {
          "base_uri": "https://localhost:8080/"
        },
        "id": "1YQ2yAtePeGY",
        "outputId": "3192634d-1012-4d10-a74d-51375ceea0fb"
      },
      "outputs": [
        {
          "name": "stdout",
          "output_type": "stream",
          "text": [
            "Model: \"discriminator\"\n",
            "_________________________________________________________________\n",
            " Layer (type)                Output Shape              Param #   \n",
            "=================================================================\n",
            " conv2d (Conv2D)             (None, 32, 32, 64)        3136      \n",
            "                                                                 \n",
            " leaky_re_lu (LeakyReLU)     (None, 32, 32, 64)        0         \n",
            "                                                                 \n",
            " conv2d_1 (Conv2D)           (None, 16, 16, 128)       131200    \n",
            "                                                                 \n",
            " leaky_re_lu_1 (LeakyReLU)   (None, 16, 16, 128)       0         \n",
            "                                                                 \n",
            " conv2d_2 (Conv2D)           (None, 8, 8, 128)         262272    \n",
            "                                                                 \n",
            " leaky_re_lu_2 (LeakyReLU)   (None, 8, 8, 128)         0         \n",
            "                                                                 \n",
            " flatten (Flatten)           (None, 8192)              0         \n",
            "                                                                 \n",
            " dropout (Dropout)           (None, 8192)              0         \n",
            "                                                                 \n",
            " dense (Dense)               (None, 1)                 8193      \n",
            "                                                                 \n",
            "=================================================================\n",
            "Total params: 404,801\n",
            "Trainable params: 404,801\n",
            "Non-trainable params: 0\n",
            "_________________________________________________________________\n"
          ]
        }
      ],
      "source": [
        "discriminator.summary()"
      ]
    },
    {
      "cell_type": "markdown",
      "metadata": {
        "id": "8m61AGuYPeGZ"
      },
      "source": [
        "### The generator"
      ]
    },
    {
      "cell_type": "markdown",
      "metadata": {
        "id": "HHYWRd3GPeGZ"
      },
      "source": [
        "**GAN generator network**"
      ]
    },
    {
      "cell_type": "code",
      "execution_count": 12,
      "metadata": {
        "id": "KKpK83jKPeGZ"
      },
      "outputs": [],
      "source": [
        "latent_dim = 128\n",
        "\n",
        "generator = keras.Sequential(\n",
        "    [\n",
        "        keras.Input(shape=(latent_dim,)),\n",
        "        layers.Dense(8 * 8 * 128),\n",
        "        layers.Reshape((8, 8, 128)),\n",
        "        layers.Conv2DTranspose(128, kernel_size=4, strides=2, padding=\"same\"),\n",
        "        layers.LeakyReLU(alpha=0.2),\n",
        "        layers.Conv2DTranspose(256, kernel_size=4, strides=2, padding=\"same\"),\n",
        "        layers.LeakyReLU(alpha=0.2),\n",
        "        layers.Conv2DTranspose(512, kernel_size=4, strides=2, padding=\"same\"),\n",
        "        layers.LeakyReLU(alpha=0.2),\n",
        "        layers.Conv2D(3, kernel_size=5, padding=\"same\", activation=\"sigmoid\"),\n",
        "    ],\n",
        "    name=\"generator\",\n",
        ")"
      ]
    },
    {
      "cell_type": "code",
      "execution_count": 13,
      "metadata": {
        "colab": {
          "base_uri": "https://localhost:8080/"
        },
        "id": "HMX5FqR8PeGa",
        "outputId": "cf60e581-b75a-4643-fdd7-acc70dabc852"
      },
      "outputs": [
        {
          "name": "stdout",
          "output_type": "stream",
          "text": [
            "Model: \"generator\"\n",
            "_________________________________________________________________\n",
            " Layer (type)                Output Shape              Param #   \n",
            "=================================================================\n",
            " dense_1 (Dense)             (None, 8192)              1056768   \n",
            "                                                                 \n",
            " reshape (Reshape)           (None, 8, 8, 128)         0         \n",
            "                                                                 \n",
            " conv2d_transpose (Conv2DTra  (None, 16, 16, 128)      262272    \n",
            " nspose)                                                         \n",
            "                                                                 \n",
            " leaky_re_lu_3 (LeakyReLU)   (None, 16, 16, 128)       0         \n",
            "                                                                 \n",
            " conv2d_transpose_1 (Conv2DT  (None, 32, 32, 256)      524544    \n",
            " ranspose)                                                       \n",
            "                                                                 \n",
            " leaky_re_lu_4 (LeakyReLU)   (None, 32, 32, 256)       0         \n",
            "                                                                 \n",
            " conv2d_transpose_2 (Conv2DT  (None, 64, 64, 512)      2097664   \n",
            " ranspose)                                                       \n",
            "                                                                 \n",
            " leaky_re_lu_5 (LeakyReLU)   (None, 64, 64, 512)       0         \n",
            "                                                                 \n",
            " conv2d_3 (Conv2D)           (None, 64, 64, 3)         38403     \n",
            "                                                                 \n",
            "=================================================================\n",
            "Total params: 3,979,651\n",
            "Trainable params: 3,979,651\n",
            "Non-trainable params: 0\n",
            "_________________________________________________________________\n"
          ]
        }
      ],
      "source": [
        "generator.summary()"
      ]
    },
    {
      "cell_type": "markdown",
      "metadata": {
        "id": "ujxxZ1jdPeGa"
      },
      "source": [
        "### The adversarial network"
      ]
    },
    {
      "cell_type": "markdown",
      "metadata": {
        "id": "4IVhlSAUPeGa"
      },
      "source": [
        "**The GAN `Model`**"
      ]
    },
    {
      "cell_type": "code",
      "execution_count": 14,
      "metadata": {
        "id": "VF2N6g7rPeGb"
      },
      "outputs": [],
      "source": [
        "import tensorflow as tf\n",
        "class GAN(keras.Model):\n",
        "    def __init__(self, discriminator, generator, latent_dim):\n",
        "        super().__init__()\n",
        "        self.discriminator = discriminator\n",
        "        self.generator = generator\n",
        "        self.latent_dim = latent_dim\n",
        "        self.d_loss_metric = keras.metrics.Mean(name=\"d_loss\")\n",
        "        self.g_loss_metric = keras.metrics.Mean(name=\"g_loss\")\n",
        "\n",
        "    def compile(self, d_optimizer, g_optimizer, loss_fn):\n",
        "        super(GAN, self).compile()\n",
        "        self.d_optimizer = d_optimizer\n",
        "        self.g_optimizer = g_optimizer\n",
        "        self.loss_fn = loss_fn\n",
        "\n",
        "    @property\n",
        "    def metrics(self):\n",
        "        return [self.d_loss_metric, self.g_loss_metric]\n",
        "\n",
        "    def train_step(self, real_images):\n",
        "        batch_size = tf.shape(real_images)[0]\n",
        "        random_latent_vectors = tf.random.normal(\n",
        "            shape=(batch_size, self.latent_dim))\n",
        "        generated_images = self.generator(random_latent_vectors)\n",
        "        combined_images = tf.concat([generated_images, real_images], axis=0)\n",
        "        labels = tf.concat(\n",
        "            [tf.ones((batch_size, 1)), tf.zeros((batch_size, 1))],\n",
        "            axis=0\n",
        "        )\n",
        "        labels += 0.05 * tf.random.uniform(tf.shape(labels))\n",
        "\n",
        "        with tf.GradientTape() as tape:\n",
        "            predictions = self.discriminator(combined_images)\n",
        "            d_loss = self.loss_fn(labels, predictions)\n",
        "        grads = tape.gradient(d_loss, self.discriminator.trainable_weights)\n",
        "        self.d_optimizer.apply_gradients(\n",
        "            zip(grads, self.discriminator.trainable_weights)\n",
        "        )\n",
        "\n",
        "        random_latent_vectors = tf.random.normal(\n",
        "            shape=(batch_size, self.latent_dim))\n",
        "\n",
        "        misleading_labels = tf.zeros((batch_size, 1))\n",
        "\n",
        "        with tf.GradientTape() as tape:\n",
        "            predictions = self.discriminator(\n",
        "                self.generator(random_latent_vectors))\n",
        "            g_loss = self.loss_fn(misleading_labels, predictions)\n",
        "        grads = tape.gradient(g_loss, self.generator.trainable_weights)\n",
        "        self.g_optimizer.apply_gradients(\n",
        "            zip(grads, self.generator.trainable_weights))\n",
        "\n",
        "        self.d_loss_metric.update_state(d_loss)\n",
        "        self.g_loss_metric.update_state(g_loss)\n",
        "        return {\"d_loss\": self.d_loss_metric.result(),\n",
        "                \"g_loss\": self.g_loss_metric.result()}"
      ]
    },
    {
      "cell_type": "markdown",
      "metadata": {
        "id": "PQ4gMj-VPeGd"
      },
      "source": [
        "**A callback that samples generated images during training**"
      ]
    },
    {
      "cell_type": "code",
      "execution_count": 15,
      "metadata": {
        "id": "JIkdvoDePeGd"
      },
      "outputs": [],
      "source": [
        "class GANMonitor(keras.callbacks.Callback):\n",
        "    def __init__(self, num_img=3, latent_dim=128):\n",
        "        self.num_img = num_img\n",
        "        self.latent_dim = latent_dim\n",
        "\n",
        "    def on_epoch_end(self, epoch, logs=None):\n",
        "        random_latent_vectors = tf.random.normal(shape=(self.num_img, self.latent_dim))\n",
        "        generated_images = self.model.generator(random_latent_vectors)\n",
        "        generated_images *= 255\n",
        "        generated_images.numpy()\n",
        "        for i in range(self.num_img):\n",
        "            img = keras.utils.array_to_img(generated_images[i])\n",
        "            img.save(f\"generated_img_{epoch:03d}_{i}.png\")"
      ]
    },
    {
      "cell_type": "markdown",
      "metadata": {
        "id": "ddj7OORfPeGd"
      },
      "source": [
        "**Compiling and training the GAN**"
      ]
    },
    {
      "cell_type": "code",
      "execution_count": null,
      "metadata": {
        "colab": {
          "base_uri": "https://localhost:8080/"
        },
        "id": "hANVrQz0PeGk",
        "outputId": "b33ab016-778f-4dfb-e750-d5ad972178d6"
      },
      "outputs": [
        {
          "name": "stdout",
          "output_type": "stream",
          "text": [
            "Epoch 1/100\n",
            "6332/6332 [==============================] - 915s 143ms/step - d_loss: 0.6245 - g_loss: 1.2441\n",
            "Epoch 2/100\n",
            "6332/6332 [==============================] - 890s 141ms/step - d_loss: 0.6556 - g_loss: 1.0352\n",
            "Epoch 3/100\n",
            "6332/6332 [==============================] - 889s 140ms/step - d_loss: 0.6644 - g_loss: 1.0112\n",
            "Epoch 4/100\n",
            "6332/6332 [==============================] - 888s 140ms/step - d_loss: 0.6683 - g_loss: 1.0101\n",
            "Epoch 5/100\n",
            "6332/6332 [==============================] - 889s 140ms/step - d_loss: 0.6553 - g_loss: 1.0568\n",
            "Epoch 6/100\n",
            "6332/6332 [==============================] - 890s 140ms/step - d_loss: 0.6424 - g_loss: 1.0402\n",
            "Epoch 7/100\n",
            "6332/6332 [==============================] - 890s 141ms/step - d_loss: 0.6683 - g_loss: 0.9453\n",
            "Epoch 8/100\n",
            "6332/6332 [==============================] - 890s 141ms/step - d_loss: 0.6768 - g_loss: 0.9165\n",
            "Epoch 9/100\n",
            "6332/6332 [==============================] - 890s 141ms/step - d_loss: 0.6762 - g_loss: 0.9024\n",
            "Epoch 10/100\n",
            "6332/6332 [==============================] - 890s 141ms/step - d_loss: 0.6778 - g_loss: 0.9313\n",
            "Epoch 11/100\n",
            "6332/6332 [==============================] - 890s 141ms/step - d_loss: 0.6742 - g_loss: 0.8838\n",
            "Epoch 12/100\n",
            "6332/6332 [==============================] - 890s 141ms/step - d_loss: 0.6822 - g_loss: 0.8704\n",
            "Epoch 13/100\n",
            "6332/6332 [==============================] - 890s 141ms/step - d_loss: 0.6804 - g_loss: 0.8735\n",
            "Epoch 14/100\n",
            "6332/6332 [==============================] - 892s 141ms/step - d_loss: 0.6780 - g_loss: 0.8810\n",
            "Epoch 15/100\n",
            "6332/6332 [==============================] - 891s 141ms/step - d_loss: 0.6734 - g_loss: 0.8914\n",
            "Epoch 16/100\n",
            "6332/6332 [==============================] - 892s 141ms/step - d_loss: 0.6674 - g_loss: 0.9018\n",
            "Epoch 17/100\n",
            "6332/6332 [==============================] - 891s 141ms/step - d_loss: 0.6730 - g_loss: 0.8873\n",
            "Epoch 18/100\n",
            "6332/6332 [==============================] - 892s 141ms/step - d_loss: 0.6694 - g_loss: 0.8896\n",
            "Epoch 19/100\n",
            "6332/6332 [==============================] - 891s 141ms/step - d_loss: 0.6649 - g_loss: 0.9095\n",
            "Epoch 20/100\n",
            "6332/6332 [==============================] - 891s 141ms/step - d_loss: 0.6724 - g_loss: 0.8948\n",
            "Epoch 21/100\n",
            "6332/6332 [==============================] - 891s 141ms/step - d_loss: 0.6699 - g_loss: 0.9071\n",
            "Epoch 22/100\n",
            "6332/6332 [==============================] - 893s 141ms/step - d_loss: 0.6608 - g_loss: 0.9157\n",
            "Epoch 23/100\n",
            "6332/6332 [==============================] - 893s 141ms/step - d_loss: 0.6664 - g_loss: 0.9136\n",
            "Epoch 24/100\n",
            "6332/6332 [==============================] - 892s 141ms/step - d_loss: 0.6646 - g_loss: 0.9125\n",
            "Epoch 25/100\n",
            "6332/6332 [==============================] - 892s 141ms/step - d_loss: 0.6632 - g_loss: 0.9220\n",
            "Epoch 26/100\n",
            "6332/6332 [==============================] - 892s 141ms/step - d_loss: 0.6526 - g_loss: 0.9300\n",
            "Epoch 27/100\n",
            "6332/6332 [==============================] - 892s 141ms/step - d_loss: 0.6568 - g_loss: 0.9280\n",
            "Epoch 28/100\n",
            "6332/6332 [==============================] - 892s 141ms/step - d_loss: 0.6522 - g_loss: 0.9416\n",
            "Epoch 29/100\n",
            "6332/6332 [==============================] - 893s 141ms/step - d_loss: 0.6505 - g_loss: 0.9547\n",
            "Epoch 30/100\n",
            "6332/6332 [==============================] - 892s 141ms/step - d_loss: 0.6453 - g_loss: 0.9496\n",
            "Epoch 31/100\n",
            "6332/6332 [==============================] - 892s 141ms/step - d_loss: 0.6412 - g_loss: 0.9718\n",
            "Epoch 32/100\n",
            "6332/6332 [==============================] - 892s 141ms/step - d_loss: 0.6416 - g_loss: 0.9695\n",
            "Epoch 33/100\n",
            "6332/6332 [==============================] - 893s 141ms/step - d_loss: 0.6419 - g_loss: 0.9741\n",
            "Epoch 34/100\n",
            "6332/6332 [==============================] - 893s 141ms/step - d_loss: 0.6414 - g_loss: 0.9559\n",
            "Epoch 35/100\n",
            "4802/6332 [=====================>........] - ETA: 3:35 - d_loss: 0.6398 - g_loss: 0.9923"
          ]
        }
      ],
      "source": [
        "epochs = 100\n",
        "\n",
        "gan = GAN(discriminator=discriminator, generator=generator, latent_dim=latent_dim)\n",
        "gan.compile(\n",
        "    d_optimizer=keras.optimizers.Adam(learning_rate=0.0001),\n",
        "    g_optimizer=keras.optimizers.Adam(learning_rate=0.0001),\n",
        "    loss_fn=keras.losses.BinaryCrossentropy(),\n",
        ")\n",
        "\n",
        "gan.fit(\n",
        "    dataset, epochs=epochs, callbacks=[GANMonitor(num_img=10, latent_dim=latent_dim)]\n",
        ")"
      ]
    },
    {
      "cell_type": "markdown",
      "metadata": {
        "id": "d1I7wpuTPeGl"
      },
      "source": [
        "### Wrapping up"
      ]
    },
    {
      "cell_type": "markdown",
      "metadata": {
        "id": "F9x-DYvNPeGl"
      },
      "source": [
        "## Summary"
      ]
    }
  ],
  "metadata": {
    "accelerator": "GPU",
    "colab": {
      "collapsed_sections": [],
      "name": "chapter12_part05_gans.ipynb",
      "provenance": []
    },
    "kernelspec": {
      "display_name": "Python 3",
      "language": "python",
      "name": "python3"
    },
    "language_info": {
      "codemirror_mode": {
        "name": "ipython",
        "version": 3
      },
      "file_extension": ".py",
      "mimetype": "text/x-python",
      "name": "python",
      "nbconvert_exporter": "python",
      "pygments_lexer": "ipython3",
      "version": "3.7.0"
    }
  },
  "nbformat": 4,
  "nbformat_minor": 0
}
