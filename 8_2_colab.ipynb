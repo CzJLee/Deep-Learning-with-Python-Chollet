{
  "nbformat": 4,
  "nbformat_minor": 0,
  "metadata": {
    "language_info": {
      "codemirror_mode": {
        "name": "ipython",
        "version": 3
      },
      "file_extension": ".py",
      "mimetype": "text/x-python",
      "name": "python",
      "nbconvert_exporter": "python",
      "pygments_lexer": "ipython3",
      "version": "3.8.10"
    },
    "orig_nbformat": 2,
    "kernelspec": {
      "name": "python3810jvsc74a57bd07e85ec9bf098c5427e45e2f632dcd4eeff803b007e1abd287d600879388709c1",
      "display_name": "Python 3.8.10 64-bit"
    },
    "metadata": {
      "interpreter": {
        "hash": "7e85ec9bf098c5427e45e2f632dcd4eeff803b007e1abd287d600879388709c1"
      }
    },
    "colab": {
      "name": "8_2.ipynb",
      "provenance": [],
      "toc_visible": true
    },
    "accelerator": "GPU"
  },
  "cells": [
    {
      "cell_type": "markdown",
      "metadata": {
        "id": "aFuQs0Gt3dqq"
      },
      "source": [
        "# Dogs Vs. Cats: Training a Covnet from Scratch\n",
        "\n",
        "In this notebook, I will explore the process of creating an image classification convolutional neural network (covnet) from scratch. \n",
        "\n",
        "Let's build the model with a series of `Conv2D` and `MaxPooling2D` layers. \n",
        "\n",
        "The data set used is the [dogs vs cats](https://www.kaggle.com/c/dogs-vs-cats) dataset from the 2013 Kaggle competiton. While the training dataset contains 25,000 training images, let's start with only a small fraction of that to save on computing costs for now. "
      ]
    },
    {
      "cell_type": "code",
      "metadata": {
        "id": "g-xRs-r93dq1"
      },
      "source": [
        "import os\n",
        "import shutil\n",
        "import pathlib\n",
        "from tensorflow import keras\n",
        "from tensorflow.keras import layers\n",
        "import numpy as np \n",
        "import matplotlib.pyplot as plt "
      ],
      "execution_count": null,
      "outputs": []
    },
    {
      "cell_type": "markdown",
      "metadata": {
        "id": "9El1A0SS3dq2"
      },
      "source": [
        "## Preparing the Dataset\n",
        "\n",
        "Frist, download the data set from Kaggle using Terminal\n",
        "\n",
        "```\n",
        "kaggle competitions download -c dogs-vs-cats\n",
        "unzip dogs-vs-cats.zip -d dogs-vs-cats-data\n",
        "cd dogs-vs-cats-data\n",
        "unzip -q train.zip\n",
        "unzip -q test1.zip\n",
        "rm train.zip\n",
        "rm test1.zip\n",
        "cd ..\n",
        "rm dogs-vs-cats.zip\n",
        "```\n",
        "\n",
        "Reminder: Make sure to accept the competiton rules before downloading. Otherwise, you will get a `403 - Forbidden` error. "
      ]
    },
    {
      "cell_type": "code",
      "metadata": {
        "colab": {
          "resources": {
            "http://localhost:8080/nbextensions/google.colab/files.js": {
              "data": "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",
              "ok": true,
              "headers": [
                [
                  "content-type",
                  "application/javascript"
                ]
              ],
              "status": 200,
              "status_text": ""
            }
          },
          "base_uri": "https://localhost:8080/",
          "height": 90
        },
        "id": "ZvMnoulW3tJm",
        "outputId": "41bfe1e3-68e6-44bd-dba9-cea5be155443"
      },
      "source": [
        "from google.colab import files\n",
        "files.upload()"
      ],
      "execution_count": null,
      "outputs": [
        {
          "output_type": "display_data",
          "data": {
            "text/html": [
              "\n",
              "     <input type=\"file\" id=\"files-e5fa6779-fbe2-40a8-a4b0-589b7be5950f\" name=\"files[]\" multiple disabled\n",
              "        style=\"border:none\" />\n",
              "     <output id=\"result-e5fa6779-fbe2-40a8-a4b0-589b7be5950f\">\n",
              "      Upload widget is only available when the cell has been executed in the\n",
              "      current browser session. Please rerun this cell to enable.\n",
              "      </output>\n",
              "      <script src=\"/nbextensions/google.colab/files.js\"></script> "
            ],
            "text/plain": [
              "<IPython.core.display.HTML object>"
            ]
          },
          "metadata": {
            "tags": []
          }
        },
        {
          "output_type": "stream",
          "text": [
            "Saving kaggle.json to kaggle.json\n"
          ],
          "name": "stdout"
        },
        {
          "output_type": "execute_result",
          "data": {
            "text/plain": [
              "{'kaggle.json': b'{\"username\":\"czjlee\",\"key\":\"d20741b1890d0117187b5bac74c4af2a\"}'}"
            ]
          },
          "metadata": {
            "tags": []
          },
          "execution_count": 5
        }
      ]
    },
    {
      "cell_type": "code",
      "metadata": {
        "id": "IefEgwuB33M4"
      },
      "source": [
        "!mkdir ~/.kaggle\n",
        "!cp kaggle.json ~/.kaggle/\n",
        "!chmod 600 ~/.kaggle/kaggle.json\n",
        "!rm kaggle.json"
      ],
      "execution_count": null,
      "outputs": []
    },
    {
      "cell_type": "code",
      "metadata": {
        "colab": {
          "base_uri": "https://localhost:8080/"
        },
        "id": "fFXqw3yp3gkl",
        "outputId": "3d7165d3-afa1-45c3-f73c-ed1332457ff7"
      },
      "source": [
        "!kaggle competitions download -c dogs-vs-cats\n",
        "!unzip -q train.zip\n",
        "!rm train.zip"
      ],
      "execution_count": null,
      "outputs": [
        {
          "output_type": "stream",
          "text": [
            "Warning: Looks like you're using an outdated API Version, please consider updating (server 1.5.12 / client 1.5.4)\n",
            "Downloading sampleSubmission.csv to /content\n",
            "  0% 0.00/86.8k [00:00<?, ?B/s]\n",
            "100% 86.8k/86.8k [00:00<00:00, 33.0MB/s]\n",
            "Downloading test1.zip to /content\n",
            " 99% 269M/271M [00:02<00:00, 94.4MB/s]\n",
            "100% 271M/271M [00:03<00:00, 93.7MB/s]\n",
            "Downloading train.zip to /content\n",
            " 98% 531M/543M [00:03<00:00, 199MB/s]\n",
            "100% 543M/543M [00:03<00:00, 153MB/s]\n"
          ],
          "name": "stdout"
        }
      ]
    },
    {
      "cell_type": "code",
      "metadata": {
        "id": "VuCwe9o06mw8"
      },
      "source": [
        "!mkdir dogs-vs-cats-data\n",
        "!cp -r train dogs-vs-cats-data"
      ],
      "execution_count": null,
      "outputs": []
    },
    {
      "cell_type": "markdown",
      "metadata": {
        "id": "2bBpDmKK3dq3"
      },
      "source": [
        "### Preview some of the images\n",
        "\n",
        "To get an idea of the images we are working with, lets preview some of the images. \n",
        "\n",
        "### Dogs\n",
        "![Dog](dogs-vs-cats-data/train/dog.0.jpg)\n",
        "![Dog](dogs-vs-cats-data/train/dog.1.jpg)\n",
        "![Dog](dogs-vs-cats-data/train/dog.2.jpg)\n",
        "![Dog](dogs-vs-cats-data/train/dog.3.jpg)\n",
        "\n",
        "### Cats\n",
        "![Cat](dogs-vs-cats-data/train/cat.0.jpg)\n",
        "![Cat](dogs-vs-cats-data/train/cat.1.jpg)\n",
        "![Cat](dogs-vs-cats-data/train/cat.2.jpg)\n",
        "![Cat](dogs-vs-cats-data/train/cat.3.jpg)\n",
        "\n"
      ]
    },
    {
      "cell_type": "markdown",
      "metadata": {
        "id": "SmetG4wP3dq4"
      },
      "source": [
        "By previewing the images, we can see that the images are in color, but they are not all the same size. This tells us that we will need a way to handle the different sizes before feeding it to our model. "
      ]
    },
    {
      "cell_type": "markdown",
      "metadata": {
        "id": "SlKlFQG_3dq4"
      },
      "source": [
        "### Make a small dataset\n",
        "\n",
        "Instead of the full 25,000 training images, let's use a small subset of that to practice on. \n",
        "\n",
        "This will also allow us to create separate training, validation, and testing sets. The original test data set does not have labels, so lets use the images from the training data set. \n",
        "\n",
        "Also, unfortuantly since the Kaggle competion is over, and there is no way to submit solutions, the test dataset is useless to us now, as there is no way to evaluate its accuracy (outside of manually labeling the images.)"
      ]
    },
    {
      "cell_type": "code",
      "metadata": {
        "id": "0KCO_aDd3dq4"
      },
      "source": [
        "# Our full data set is in the original data folder. Let's make a new small folder.\n",
        "original_dir = pathlib.Path('dogs-vs-cats-data')\n",
        "new_base_dir = pathlib.Path('dogs-vs-cats-small')\n",
        "\n",
        "# Define a function to move our images to the new directory.\n",
        "def make_subset(subset_name, start_index, end_index):\n",
        "    for category in ('cat', 'dog'):\n",
        "        dir = new_base_dir / subset_name / category\n",
        "        pathlib.Path(dir).mkdir(parents=True, exist_ok=True)\n",
        "        # images in the train set have the file name dog.5.jpg, with no leading zeros. \n",
        "        fnames = [f'{category}.{i}.jpg' for i in range(start_index, end_index)]\n",
        "        for fname in fnames:\n",
        "            # Copy from original_dir to new_base_dir\n",
        "            shutil.copyfile(src=original_dir / \"train\"/ fname, dst=dir / fname)\n",
        "\n",
        "# Define size of each set\n",
        "# Select size/2 of each type of image to chose for the small subset. \n",
        "num_train_images = 2000\n",
        "num_val_images = 1000\n",
        "num_test_images = 2000\n",
        "\n",
        "# Loop over the train, validation, and test sets, making subsets for each.\n",
        "i = 0\n",
        "for dataset, num_images in {\"train\":num_train_images, \"validation\":num_val_images, \"test\":num_test_images}.items():\n",
        "    make_subset(dataset, i, int(i + num_images/2))\n",
        "    i += int(num_images / 2)"
      ],
      "execution_count": null,
      "outputs": []
    },
    {
      "cell_type": "markdown",
      "metadata": {
        "id": "m032Q27c3dq5"
      },
      "source": [
        "## Construct the Model\n",
        "\n",
        "Using Keras, let's build a covnet with a stack of alternated `Conv2d` and `MaxPooling2D` layers. \n",
        "\n",
        "Use an image input size of 180x180 pixels. \n",
        "\n",
        "With the following construction, we will end up with feature maps of size 7x7 just before the `Flatten` Layer"
      ]
    },
    {
      "cell_type": "code",
      "metadata": {
        "id": "LLpFW82s3dq5",
        "colab": {
          "base_uri": "https://localhost:8080/"
        },
        "outputId": "c03ced63-a59a-485c-b546-891c63acdc06"
      },
      "source": [
        "inputs = keras.Input(shape=(180, 180, 3))\n",
        "# Rescale color range from [0, 255] to [0, 1]\n",
        "x = layers.experimental.preprocessing.Rescaling(1./255)(inputs)\n",
        "\n",
        "x = layers.Conv2D(filters=32, kernel_size=3, activation='relu')(x)\n",
        "x = layers.MaxPooling2D(pool_size=2)(x)\n",
        "\n",
        "x = layers.Conv2D(filters=64, kernel_size=3, activation='relu')(x)\n",
        "x = layers.MaxPooling2D(pool_size=2)(x)\n",
        "\n",
        "x = layers.Conv2D(filters=128, kernel_size=3, activation='relu')(x)\n",
        "x = layers.MaxPooling2D(pool_size=2)(x)\n",
        "\n",
        "x = layers.Conv2D(filters=256, kernel_size=3, activation='relu')(x)\n",
        "x = layers.MaxPooling2D(pool_size=2)(x)\n",
        "\n",
        "x = layers.Conv2D(filters=256, kernel_size=3, activation='relu')(x)\n",
        "x = layers.Flatten()(x)\n",
        "\n",
        "outputs = layers.Dense(1, activation='sigmoid')(x)\n",
        "model = keras.Model(inputs=inputs, outputs=outputs)\n",
        "\n",
        "model.summary()"
      ],
      "execution_count": null,
      "outputs": [
        {
          "output_type": "stream",
          "text": [
            "Model: \"model\"\n",
            "_________________________________________________________________\n",
            "Layer (type)                 Output Shape              Param #   \n",
            "=================================================================\n",
            "input_1 (InputLayer)         [(None, 180, 180, 3)]     0         \n",
            "_________________________________________________________________\n",
            "rescaling (Rescaling)        (None, 180, 180, 3)       0         \n",
            "_________________________________________________________________\n",
            "conv2d (Conv2D)              (None, 178, 178, 32)      896       \n",
            "_________________________________________________________________\n",
            "max_pooling2d (MaxPooling2D) (None, 89, 89, 32)        0         \n",
            "_________________________________________________________________\n",
            "conv2d_1 (Conv2D)            (None, 87, 87, 64)        18496     \n",
            "_________________________________________________________________\n",
            "max_pooling2d_1 (MaxPooling2 (None, 43, 43, 64)        0         \n",
            "_________________________________________________________________\n",
            "conv2d_2 (Conv2D)            (None, 41, 41, 128)       73856     \n",
            "_________________________________________________________________\n",
            "max_pooling2d_2 (MaxPooling2 (None, 20, 20, 128)       0         \n",
            "_________________________________________________________________\n",
            "conv2d_3 (Conv2D)            (None, 18, 18, 256)       295168    \n",
            "_________________________________________________________________\n",
            "max_pooling2d_3 (MaxPooling2 (None, 9, 9, 256)         0         \n",
            "_________________________________________________________________\n",
            "conv2d_4 (Conv2D)            (None, 7, 7, 256)         590080    \n",
            "_________________________________________________________________\n",
            "flatten (Flatten)            (None, 12544)             0         \n",
            "_________________________________________________________________\n",
            "dense (Dense)                (None, 1)                 12545     \n",
            "=================================================================\n",
            "Total params: 991,041\n",
            "Trainable params: 991,041\n",
            "Non-trainable params: 0\n",
            "_________________________________________________________________\n"
          ],
          "name": "stdout"
        }
      ]
    },
    {
      "cell_type": "markdown",
      "metadata": {
        "id": "0W_I9id83dq6"
      },
      "source": [
        "### Compile the model\n",
        "\n",
        "For the loss, use `binary_crossentropy` since this is a binary classification problem. \n",
        "\n",
        "The metric we are interested in is accuracy. "
      ]
    },
    {
      "cell_type": "code",
      "metadata": {
        "id": "iT4Z553w3dq7"
      },
      "source": [
        "# Compile the model\n",
        "model.compile(loss='binary_crossentropy',\n",
        "              optimizer='rmsprop',\n",
        "              metrics=['accuracy'])"
      ],
      "execution_count": null,
      "outputs": []
    },
    {
      "cell_type": "markdown",
      "metadata": {
        "id": "BwhMGJgA3dq7"
      },
      "source": [
        "## Data Preprocessing\n",
        "\n",
        "There are a few steps we need to take before we can feed the jpeg images into our model.\n",
        "\n",
        "1. Read the picture files from the disk.\n",
        "2. Decode the JPEG content to RGB grids of pixels.\n",
        "3. Convert these into floating-point tensors.\n",
        "4. Resize them to a shared size (we’ll use 180 x 180).\n",
        "5. Pack them into batches (we’ll use batches of 32 images).\n",
        "\n",
        "Let's use `keras.preprocessing` to help us with this. \n",
        "\n",
        "Calling `image_dataset_from_directory(directory)` will first list the subdirectories of `directory` and assume each one contains images from one of your class. It will then index the image files in each subdirectory. Finally, it will create and return a `tf.data.Dataset` object configured to read these files, shuffle them, decode them to tensors, resize them to a shared size, and pack them into batches.\n",
        "\n",
        "https://www.tensorflow.org/api_docs/python/tf/keras/preprocessing/image_dataset_from_directory\n",
        "\n",
        "By inferring the labels, we will assign a lable of `0` to cats and `1` to dogs."
      ]
    },
    {
      "cell_type": "code",
      "metadata": {
        "id": "XifHRaE23dq8",
        "colab": {
          "base_uri": "https://localhost:8080/"
        },
        "outputId": "a9a685a5-40cb-419e-b332-026cdda2f953"
      },
      "source": [
        "from tensorflow.keras.preprocessing import image_dataset_from_directory\n",
        "\n",
        "train_dataset = image_dataset_from_directory(\n",
        "    directory=new_base_dir / 'train',\n",
        "    labels='inferred',\n",
        "    image_size=(180, 180),\n",
        "    batch_size=32)\n",
        "validation_dataset = image_dataset_from_directory(\n",
        "    directory=new_base_dir / 'validation',\n",
        "    labels='inferred',\n",
        "    image_size=(180, 180),\n",
        "    batch_size=32)\n",
        "test_dataset = image_dataset_from_directory(\n",
        "    directory=new_base_dir / 'test',\n",
        "    labels='inferred',\n",
        "    image_size=(180, 180),\n",
        "    batch_size=32)"
      ],
      "execution_count": null,
      "outputs": [
        {
          "output_type": "stream",
          "text": [
            "Found 2000 files belonging to 2 classes.\n",
            "Found 1000 files belonging to 2 classes.\n",
            "Found 2000 files belonging to 2 classes.\n"
          ],
          "name": "stdout"
        }
      ]
    },
    {
      "cell_type": "markdown",
      "metadata": {
        "id": "EzTNjqaa3dq8"
      },
      "source": [
        "### Dataset object \n",
        "\n",
        "Let’s look at the output of one of these Dataset objects: it yields batches of 180 × 180 RGB images (shape `(32, 180, 180, 3)`) and integer labels (shape `(32,)`). There are 32 samples in each batch (the batch size)."
      ]
    },
    {
      "cell_type": "code",
      "metadata": {
        "id": "MraZg5ZW3dq9",
        "colab": {
          "base_uri": "https://localhost:8080/"
        },
        "outputId": "fd4c7acc-068a-4949-ea7e-2c2d09a47714"
      },
      "source": [
        "for data_batch, labels_batch in train_dataset:\n",
        "    print('data batch shape:', data_batch.shape)\n",
        "    print('labels batch shape:', labels_batch.shape)\n",
        "    break"
      ],
      "execution_count": null,
      "outputs": [
        {
          "output_type": "stream",
          "text": [
            "data batch shape: (32, 180, 180, 3)\n",
            "labels batch shape: (32,)\n"
          ],
          "name": "stdout"
        }
      ]
    },
    {
      "cell_type": "markdown",
      "metadata": {
        "id": "rk8p7UZV3dq9"
      },
      "source": [
        "## Fitting the model\n",
        "\n",
        "Let's utilize a `ModelCheckpoint` callback to save the model after each epoch. We configure it with the path where to save the file, as well as the arguments `save_best_only=True` and `monitor='val_loss'`: they tell the callback to only save a new file (overwriting any previous one) when the current value of the `val_loss` metric is lower than at any previous time during training. This guarantees that the saved file will always contain the state of the model corresponding to its best-performing training epoch, in terms of its performance on the validation data. As a result, we won’t have to retrain a new model for a lower number of epochs if we start overfitting: we can just reload our saved file.\n",
        "\n"
      ]
    },
    {
      "cell_type": "code",
      "metadata": {
        "id": "IooYl5fz3dq-",
        "colab": {
          "base_uri": "https://localhost:8080/"
        },
        "outputId": "5c41c7a5-0fab-46ac-8556-d9c292e3c8e3"
      },
      "source": [
        "import time\n",
        "start_time = time.time()\n",
        "\n",
        "# Define the callback\n",
        "callbacks = [keras.callbacks.ModelCheckpoint(\n",
        "    filepath='models/convnet_from_scratch.keras',\n",
        "    save_best_only=True,\n",
        "    monitor='val_loss')]\n",
        "\n",
        "# Fit the model\n",
        "history = model.fit(\n",
        "  train_dataset,\n",
        "  epochs=30,\n",
        "  validation_data=validation_dataset,\n",
        "  callbacks=callbacks)\n",
        "\n",
        "print(\"--- %s seconds ---\" % (time.time() - start_time))"
      ],
      "execution_count": null,
      "outputs": [
        {
          "output_type": "stream",
          "text": [
            "Epoch 1/30\n",
            "63/63 [==============================] - 37s 95ms/step - loss: 0.8924 - accuracy: 0.4792 - val_loss: 0.6897 - val_accuracy: 0.5550\n",
            "Epoch 2/30\n",
            "63/63 [==============================] - 6s 87ms/step - loss: 0.6946 - accuracy: 0.5603 - val_loss: 0.6785 - val_accuracy: 0.5520\n",
            "Epoch 3/30\n",
            "63/63 [==============================] - 6s 88ms/step - loss: 0.6965 - accuracy: 0.5681 - val_loss: 0.6727 - val_accuracy: 0.5830\n",
            "Epoch 4/30\n",
            "63/63 [==============================] - 6s 87ms/step - loss: 0.6721 - accuracy: 0.5944 - val_loss: 0.7739 - val_accuracy: 0.5540\n",
            "Epoch 5/30\n",
            "63/63 [==============================] - 6s 87ms/step - loss: 0.6475 - accuracy: 0.6443 - val_loss: 0.6140 - val_accuracy: 0.6590\n",
            "Epoch 6/30\n",
            "63/63 [==============================] - 6s 86ms/step - loss: 0.5741 - accuracy: 0.6990 - val_loss: 0.5853 - val_accuracy: 0.6970\n",
            "Epoch 7/30\n",
            "63/63 [==============================] - 6s 86ms/step - loss: 0.5410 - accuracy: 0.7252 - val_loss: 0.6597 - val_accuracy: 0.6680\n",
            "Epoch 8/30\n",
            "63/63 [==============================] - 6s 88ms/step - loss: 0.5375 - accuracy: 0.7470 - val_loss: 0.6182 - val_accuracy: 0.7140\n",
            "Epoch 9/30\n",
            "63/63 [==============================] - 6s 90ms/step - loss: 0.4891 - accuracy: 0.7725 - val_loss: 0.6091 - val_accuracy: 0.7300\n",
            "Epoch 10/30\n",
            "63/63 [==============================] - 6s 88ms/step - loss: 0.4548 - accuracy: 0.7971 - val_loss: 0.7328 - val_accuracy: 0.6960\n",
            "Epoch 11/30\n",
            "63/63 [==============================] - 6s 87ms/step - loss: 0.3664 - accuracy: 0.8384 - val_loss: 0.7075 - val_accuracy: 0.7000\n",
            "Epoch 12/30\n",
            "63/63 [==============================] - 6s 88ms/step - loss: 0.3317 - accuracy: 0.8611 - val_loss: 1.0574 - val_accuracy: 0.7060\n",
            "Epoch 13/30\n",
            "63/63 [==============================] - 6s 88ms/step - loss: 0.3252 - accuracy: 0.8756 - val_loss: 0.8347 - val_accuracy: 0.7350\n",
            "Epoch 14/30\n",
            "63/63 [==============================] - 6s 87ms/step - loss: 0.2720 - accuracy: 0.8861 - val_loss: 0.8471 - val_accuracy: 0.7190\n",
            "Epoch 15/30\n",
            "63/63 [==============================] - 6s 88ms/step - loss: 0.1845 - accuracy: 0.9280 - val_loss: 1.4295 - val_accuracy: 0.6650\n",
            "Epoch 16/30\n",
            "63/63 [==============================] - 6s 88ms/step - loss: 0.1874 - accuracy: 0.9289 - val_loss: 1.0369 - val_accuracy: 0.7400\n",
            "Epoch 17/30\n",
            "63/63 [==============================] - 6s 89ms/step - loss: 0.1020 - accuracy: 0.9624 - val_loss: 1.1638 - val_accuracy: 0.7500\n",
            "Epoch 18/30\n",
            "63/63 [==============================] - 6s 86ms/step - loss: 0.0943 - accuracy: 0.9633 - val_loss: 1.2467 - val_accuracy: 0.7450\n",
            "Epoch 19/30\n",
            "63/63 [==============================] - 6s 86ms/step - loss: 0.1201 - accuracy: 0.9641 - val_loss: 1.3474 - val_accuracy: 0.7280\n",
            "Epoch 20/30\n",
            "63/63 [==============================] - 6s 88ms/step - loss: 0.0510 - accuracy: 0.9836 - val_loss: 1.4382 - val_accuracy: 0.7230\n",
            "Epoch 21/30\n",
            "63/63 [==============================] - 6s 87ms/step - loss: 0.0563 - accuracy: 0.9812 - val_loss: 1.6257 - val_accuracy: 0.7150\n",
            "Epoch 22/30\n",
            "63/63 [==============================] - 6s 86ms/step - loss: 0.0525 - accuracy: 0.9792 - val_loss: 1.6845 - val_accuracy: 0.7400\n",
            "Epoch 23/30\n",
            "63/63 [==============================] - 6s 86ms/step - loss: 0.1277 - accuracy: 0.9577 - val_loss: 2.8867 - val_accuracy: 0.6890\n",
            "Epoch 24/30\n",
            "63/63 [==============================] - 6s 89ms/step - loss: 0.0960 - accuracy: 0.9725 - val_loss: 1.7270 - val_accuracy: 0.7360\n",
            "Epoch 25/30\n",
            "63/63 [==============================] - 6s 88ms/step - loss: 0.0917 - accuracy: 0.9768 - val_loss: 1.8416 - val_accuracy: 0.7360\n",
            "Epoch 26/30\n",
            "63/63 [==============================] - 6s 90ms/step - loss: 0.0341 - accuracy: 0.9868 - val_loss: 2.1359 - val_accuracy: 0.7010\n",
            "Epoch 27/30\n",
            "63/63 [==============================] - 6s 87ms/step - loss: 0.0547 - accuracy: 0.9828 - val_loss: 2.2906 - val_accuracy: 0.6620\n",
            "Epoch 28/30\n",
            "63/63 [==============================] - 6s 88ms/step - loss: 0.0764 - accuracy: 0.9769 - val_loss: 1.8574 - val_accuracy: 0.7170\n",
            "Epoch 29/30\n",
            "63/63 [==============================] - 6s 88ms/step - loss: 0.0499 - accuracy: 0.9883 - val_loss: 2.1016 - val_accuracy: 0.7250\n",
            "Epoch 30/30\n",
            "63/63 [==============================] - 6s 88ms/step - loss: 0.0084 - accuracy: 0.9981 - val_loss: 3.2575 - val_accuracy: 0.6910\n",
            "--- 205.42940974235535 seconds ---\n"
          ],
          "name": "stdout"
        }
      ]
    },
    {
      "cell_type": "code",
      "metadata": {
        "id": "UzZ202qA3dq_",
        "colab": {
          "base_uri": "https://localhost:8080/",
          "height": 545
        },
        "outputId": "a8e62c6a-518a-4496-d08a-6b351120929f"
      },
      "source": [
        "# Plot the loss and accuracy of the model over the training and validation data during training. \n",
        "accuracy = history.history['accuracy']\n",
        "val_accuracy = history.history['val_accuracy']\n",
        "loss = history.history['loss']\n",
        "val_loss = history.history['val_loss']\n",
        "epochs = range(1, len(accuracy) + 1)\n",
        "plt.plot(epochs, accuracy, 'bo', label='Training accuracy')\n",
        "plt.plot(epochs, val_accuracy, 'b', label='Validation accuracy')\n",
        "plt.title('Training and validation accuracy')\n",
        "plt.legend()\n",
        "plt.figure()\n",
        "plt.plot(epochs, loss, 'bo', label='Training loss')\n",
        "plt.plot(epochs, val_loss, 'b', label='Validation loss')\n",
        "plt.title('Training and validation loss')\n",
        "plt.legend()\n",
        "plt.show()"
      ],
      "execution_count": null,
      "outputs": [
        {
          "output_type": "display_data",
          "data": {
            "image/png": "[encoded data removed]",
            "text/plain": [
              "<Figure size 432x288 with 1 Axes>"
            ]
          },
          "metadata": {
            "tags": [],
            "needs_background": "light"
          }
        },
        {
          "output_type": "display_data",
          "data": {
            "image/png": "[encoded data removed]",
            "text/plain": [
              "<Figure size 432x288 with 1 Axes>"
            ]
          },
          "metadata": {
            "tags": [],
            "needs_background": "light"
          }
        }
      ]
    },
    {
      "cell_type": "code",
      "metadata": {
        "id": "gaITnwBH3drA",
        "colab": {
          "base_uri": "https://localhost:8080/"
        },
        "outputId": "3f0537ab-2005-4230-b235-db13260ac250"
      },
      "source": [
        "# Evaluate the test accuracy on the test dataset\n",
        "test_model = keras.models.load_model('models/convnet_from_scratch.keras')\n",
        "test_loss, test_acc = test_model.evaluate(test_dataset)\n",
        "print('Test accuracy: %.3f' % (test_acc,))"
      ],
      "execution_count": null,
      "outputs": [
        {
          "output_type": "stream",
          "text": [
            "63/63 [==============================] - 4s 49ms/step - loss: 0.5799 - accuracy: 0.7075\n",
            "Test accuracy: 0.707\n"
          ],
          "name": "stdout"
        }
      ]
    },
    {
      "cell_type": "code",
      "metadata": {
        "id": "fHEbDEK-3drB"
      },
      "source": [
        ""
      ],
      "execution_count": null,
      "outputs": []
    }
  ]
}