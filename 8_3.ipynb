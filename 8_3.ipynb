{
 "metadata": {
  "language_info": {
   "codemirror_mode": {
    "name": "ipython",
    "version": 3
   },
   "file_extension": ".py",
   "mimetype": "text/x-python",
   "name": "python",
   "nbconvert_exporter": "python",
   "pygments_lexer": "ipython3",
   "version": "3.8.10"
  },
  "orig_nbformat": 2,
  "kernelspec": {
   "name": "python3810jvsc74a57bd07e85ec9bf098c5427e45e2f632dcd4eeff803b007e1abd287d600879388709c1",
   "display_name": "Python 3.8.10 64-bit"
  },
  "metadata": {
   "interpreter": {
    "hash": "7e85ec9bf098c5427e45e2f632dcd4eeff803b007e1abd287d600879388709c1"
   }
  }
 },
 "nbformat": 4,
 "nbformat_minor": 2,
 "cells": [
  {
   "source": [
    "# Dogs Vs. Cats: Training a Covnet Using a Pretrained Model "
   ],
   "cell_type": "markdown",
   "metadata": {}
  },
  {
   "cell_type": "code",
   "execution_count": 2,
   "metadata": {},
   "outputs": [],
   "source": [
    "from tensorflow import keras\n",
    "from tensorflow.keras import layers\n",
    "import numpy as np \n",
    "import matplotlib.pyplot as plt "
   ]
  },
  {
   "cell_type": "code",
   "execution_count": 3,
   "metadata": {},
   "outputs": [
    {
     "output_type": "stream",
     "name": "stdout",
     "text": [
      "Downloading data from https://storage.googleapis.com/tensorflow/keras-applications/vgg16/vgg16_weights_tf_dim_ordering_tf_kernels_notop.h5\n",
      "58892288/58889256 [==============================] - 3s 0us/step\n"
     ]
    }
   ],
   "source": [
    "# Import the VGG16 Model\n",
    "conv_base = keras.applications.vgg16.VGG16(\n",
    "    weights='imagenet',\n",
    "    include_top=False,\n",
    "    input_shape=(180, 180, 3))"
   ]
  },
  {
   "cell_type": "code",
   "execution_count": 4,
   "metadata": {},
   "outputs": [
    {
     "output_type": "stream",
     "name": "stdout",
     "text": [
      "Model: \"vgg16\"\n_________________________________________________________________\nLayer (type)                 Output Shape              Param #   \n=================================================================\ninput_1 (InputLayer)         [(None, 180, 180, 3)]     0         \n_________________________________________________________________\nblock1_conv1 (Conv2D)        (None, 180, 180, 64)      1792      \n_________________________________________________________________\nblock1_conv2 (Conv2D)        (None, 180, 180, 64)      36928     \n_________________________________________________________________\nblock1_pool (MaxPooling2D)   (None, 90, 90, 64)        0         \n_________________________________________________________________\nblock2_conv1 (Conv2D)        (None, 90, 90, 128)       73856     \n_________________________________________________________________\nblock2_conv2 (Conv2D)        (None, 90, 90, 128)       147584    \n_________________________________________________________________\nblock2_pool (MaxPooling2D)   (None, 45, 45, 128)       0         \n_________________________________________________________________\nblock3_conv1 (Conv2D)        (None, 45, 45, 256)       295168    \n_________________________________________________________________\nblock3_conv2 (Conv2D)        (None, 45, 45, 256)       590080    \n_________________________________________________________________\nblock3_conv3 (Conv2D)        (None, 45, 45, 256)       590080    \n_________________________________________________________________\nblock3_pool (MaxPooling2D)   (None, 22, 22, 256)       0         \n_________________________________________________________________\nblock4_conv1 (Conv2D)        (None, 22, 22, 512)       1180160   \n_________________________________________________________________\nblock4_conv2 (Conv2D)        (None, 22, 22, 512)       2359808   \n_________________________________________________________________\nblock4_conv3 (Conv2D)        (None, 22, 22, 512)       2359808   \n_________________________________________________________________\nblock4_pool (MaxPooling2D)   (None, 11, 11, 512)       0         \n_________________________________________________________________\nblock5_conv1 (Conv2D)        (None, 11, 11, 512)       2359808   \n_________________________________________________________________\nblock5_conv2 (Conv2D)        (None, 11, 11, 512)       2359808   \n_________________________________________________________________\nblock5_conv3 (Conv2D)        (None, 11, 11, 512)       2359808   \n_________________________________________________________________\nblock5_pool (MaxPooling2D)   (None, 5, 5, 512)         0         \n=================================================================\nTotal params: 14,714,688\nTrainable params: 14,714,688\nNon-trainable params: 0\n_________________________________________________________________\n"
     ]
    }
   ],
   "source": [
    "conv_base.summary()"
   ]
  },
  {
   "cell_type": "code",
   "execution_count": 5,
   "metadata": {},
   "outputs": [],
   "source": [
    "# Freeze the VGG16 model by setting the trainable attribute to False.\n",
    "conv_base  = keras.applications.vgg16.VGG16(\n",
    "    weights='imagenet',\n",
    "    include_top=False)\n",
    "conv_base.trainable = False"
   ]
  },
  {
   "cell_type": "code",
   "execution_count": 7,
   "metadata": {},
   "outputs": [
    {
     "output_type": "execute_result",
     "data": {
      "text/plain": [
       "0"
      ]
     },
     "metadata": {},
     "execution_count": 7
    }
   ],
   "source": [
    "# Create data augmentation layers\n",
    "data_augmentation = keras.Sequential(\n",
    "    [\n",
    "        layers.experimental.preprocessing.RandomFlip(\"horizontal\"),\n",
    "        layers.experimental.preprocessing.RandomRotation(0.1),\n",
    "        layers.experimental.preprocessing.RandomZoom(0.2),\n",
    "    ]\n",
    ")"
   ]
  },
  {
   "cell_type": "code",
   "execution_count": null,
   "metadata": {},
   "outputs": [],
   "source": [
    "# Build the model\n",
    "inputs = keras.Input(shape=(180, 180, 3))\n",
    "x = data_augmentation(inputs)\n",
    "\n",
    "x = conv_base(x)\n",
    "\n",
    "x = layers.Flatten()(x)\n",
    "x = layers.Dense(256)(x)\n",
    "x = layers.Dropout(0.5)(x)\n",
    "\n",
    "outputs = layers.Dense(1, activation='sigmoid')(x)\n",
    "\n",
    "model = keras.Model(inputs, outputs)\n",
    "\n",
    "# Compile the model\n",
    "model.compile(loss='binary_crossentropy',\n",
    "              optimizer='rmsprop',\n",
    "              metrics=['accuracy'])"
   ]
  },
  {
   "cell_type": "code",
   "execution_count": null,
   "metadata": {},
   "outputs": [],
   "source": [
    "# Define the callbacks and save the best model to a new file\n",
    "callbacks = [keras.callbacks.ModelCheckpoint(\n",
    "    filepath='feature_extraction_with_data_augmentation.keras',\n",
    "    save_best_only=True,\n",
    "    monitor='val_loss')]"
   ]
  },
  {
   "cell_type": "code",
   "execution_count": null,
   "metadata": {},
   "outputs": [],
   "source": [
    "import time\n",
    "# Time the time it takes to train the model\n",
    "start_time = time.time()\n",
    "\n",
    "history = model.fit(\n",
    "  train_dataset,\n",
    "  epochs=50,\n",
    "  validation_data=validation_dataset,\n",
    "  callbacks=callbacks)\n",
    "\n",
    "print(\"--- Model trained in %s seconds ---\" % (time.time() - start_time))"
   ]
  },
  {
   "cell_type": "code",
   "execution_count": null,
   "metadata": {},
   "outputs": [],
   "source": [
    "# Plot the loss and accuracy of the model over the training and validation data during training. \n",
    "accuracy = history.history['accuracy']\n",
    "val_accuracy = history.history['val_accuracy']\n",
    "loss = history.history['loss']\n",
    "val_loss = history.history['val_loss']\n",
    "epochs = range(1, len(accuracy) + 1)\n",
    "plt.plot(epochs, accuracy, 'bo', label='Training accuracy')\n",
    "plt.plot(epochs, val_accuracy, 'b', label='Validation accuracy')\n",
    "plt.title('Training and validation accuracy')\n",
    "plt.legend()\n",
    "plt.figure()\n",
    "plt.plot(epochs, loss, 'bo', label='Training loss')\n",
    "plt.plot(epochs, val_loss, 'b', label='Validation loss')\n",
    "plt.title('Training and validation loss')\n",
    "plt.legend()\n",
    "plt.show()"
   ]
  },
  {
   "cell_type": "code",
   "execution_count": null,
   "metadata": {},
   "outputs": [],
   "source": [
    "# Display the accuracy of the model on the test dataset\n",
    "test_model = keras.models.load_model('feature_extraction_with_data_augmentation.keras')\n",
    "test_loss, test_acc = test_model.evaluate(test_dataset)\n",
    "print('Test accuracy: %.3f' % (test_acc,))"
   ]
  },
  {
   "source": [
    "## Fine Tuning a Pretrained Model"
   ],
   "cell_type": "markdown",
   "metadata": {}
  },
  {
   "cell_type": "code",
   "execution_count": null,
   "metadata": {},
   "outputs": [],
   "source": [
    "# Unfreeze the top four layers\n",
    "conv_base.trainable = True\n",
    "for layer in conv_base.layers[:-4]:\n",
    "  layer.trainable = False"
   ]
  },
  {
   "cell_type": "code",
   "execution_count": null,
   "metadata": {},
   "outputs": [],
   "source": [
    "# Recompile the model (since we changed the trainable layers)\n",
    "model.compile(loss='binary_crossentropy',\n",
    "              optimizer=keras.optimizers.RMSprop(learning_rate=1e-5),\n",
    "              metrics=['accuracy'])\n"
   ]
  },
  {
   "cell_type": "code",
   "execution_count": null,
   "metadata": {},
   "outputs": [],
   "source": [
    "# Define callbacks again, with a new save file\n",
    "callbacks = [keras.callbacks.ModelCheckpoint(\n",
    "    filepath='fine_tuning.keras',\n",
    "    save_best_only=True,\n",
    "    monitor='val_loss')]\n"
   ]
  },
  {
   "cell_type": "code",
   "execution_count": null,
   "metadata": {},
   "outputs": [],
   "source": [
    "start_time = time.time()\n",
    "\n",
    "history = model.fit(\n",
    "    train_dataset,\n",
    "    epochs=30,\n",
    "    validation_data=validation_dataset,\n",
    "    callbacks=callbacks)\n",
    "\n",
    "print(\"--- Model trained in %s seconds ---\" % (time.time() - start_time))"
   ]
  },
  {
   "cell_type": "code",
   "execution_count": null,
   "metadata": {},
   "outputs": [],
   "source": [
    "# Display the accuracy of the model on the test dataset\n",
    "model = keras.models.load_model('fine_tuning.keras')\n",
    "test_loss, test_acc = model.evaluate(test_dataset)\n",
    "print('Test accuracy: %.3f' % (test_acc,))"
   ]
  }
 ]
}